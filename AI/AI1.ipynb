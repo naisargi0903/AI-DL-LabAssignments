{
  "nbformat": 4,
  "nbformat_minor": 0,
  "metadata": {
    "colab": {
      "provenance": []
    },
    "kernelspec": {
      "name": "python3",
      "display_name": "Python 3"
    },
    "language_info": {
      "name": "python"
    }
  },
  "cells": [
    {
      "cell_type": "code",
      "execution_count": null,
      "metadata": {
        "colab": {
          "base_uri": "https://localhost:8080/"
        },
        "id": "Wc73OJeNkFxv",
        "outputId": "24800565-3e7b-4535-c464-dc6a67c11b54"
      },
      "outputs": [
        {
          "output_type": "stream",
          "name": "stdout",
          "text": [
            "[1, 2, 3, 4, 5, 6, 0, 7, 8]\n",
            "[1, 2, 3, 0, 5, 6, 4, 7, 8]\n",
            "[1, 2, 3, 4, 5, 6, 7, 0, 8]\n",
            "success\n"
          ]
        }
      ],
      "source": [
        "import numpy as np\n",
        "import pandas as pd\n",
        "import os\n",
        "\n",
        "def bfs(src,target):\n",
        "    queue = []\n",
        "    queue.append(src)\n",
        "\n",
        "    exp = []\n",
        "\n",
        "    while len(queue) > 0:\n",
        "        source = queue.pop(0)\n",
        "        exp.append(source)\n",
        "\n",
        "        print(source)\n",
        "\n",
        "        if source==target:\n",
        "            print(\"success\")\n",
        "            return\n",
        "\n",
        "        poss_moves_to_do = []\n",
        "        poss_moves_to_do = possible_moves(source,exp)\n",
        "\n",
        "        for move in poss_moves_to_do:\n",
        "\n",
        "            if move not in exp and move not in queue:\n",
        "                queue.append(move)\n",
        "\n",
        "def possible_moves(state,visited_states):\n",
        "\n",
        "    b = state.index(0)\n",
        "    d = []\n",
        "    if b not in [0,1,2]:\n",
        "        d.append('u')\n",
        "    if b not in [6,7,8]:\n",
        "        d.append('d')\n",
        "    if b not in [0,3,6]:\n",
        "        d.append('l')\n",
        "    if b not in [2,5,8]:\n",
        "        d.append('r')\n",
        "\n",
        "\n",
        "    pos_moves_it_can = []\n",
        "\n",
        "    for i in d:\n",
        "        pos_moves_it_can.append(gen(state,i,b))\n",
        "\n",
        "    return [move_it_can for move_it_can in pos_moves_it_can if move_it_can not in visited_states]\n",
        "\n",
        "def gen(state, m, b):\n",
        "    temp = state.copy()\n",
        "\n",
        "    if m=='d':\n",
        "        temp[b+3],temp[b] = temp[b],temp[b+3]\n",
        "\n",
        "    if m=='u':\n",
        "        temp[b-3],temp[b] = temp[b],temp[b-3]\n",
        "\n",
        "    if m=='l':\n",
        "        temp[b-1],temp[b] = temp[b],temp[b-1]\n",
        "\n",
        "    if m=='r':\n",
        "        temp[b+1],temp[b] = temp[b],temp[b+1]\n",
        "\n",
        "    return temp\n",
        "\n",
        "src = [1,2,3,4,5,6,0,7,8]\n",
        "target = [1,2,3,4,5,6,7,0,8]\n",
        "bfs(src, target)"
      ]
    }
  ]
}