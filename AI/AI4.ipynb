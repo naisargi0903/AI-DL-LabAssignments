{
  "nbformat": 4,
  "nbformat_minor": 0,
  "metadata": {
    "colab": {
      "provenance": []
    },
    "kernelspec": {
      "name": "python3",
      "display_name": "Python 3"
    },
    "language_info": {
      "name": "python"
    }
  },
  "cells": [
    {
      "cell_type": "code",
      "execution_count": 1,
      "metadata": {
        "colab": {
          "base_uri": "https://localhost:8080/"
        },
        "id": "5ri5qzEppHHe",
        "outputId": "1515c2eb-553d-4838-b7f6-565e8d7a8fed"
      },
      "outputs": [
        {
          "output_type": "stream",
          "name": "stdout",
          "text": [
            "Path found: [(0, 0), (1, 0), (2, 0), (3, 0), (4, 0), (4, 1), (4, 2), (4, 3), (4, 4), (4, 5)]\n"
          ]
        }
      ],
      "source": [
        "import heapq\n",
        "\n",
        "# A* algorithm implementation\n",
        "class AStar:\n",
        "    def __init__(self, grid, start, goal):\n",
        "        self.grid = grid\n",
        "        self.start = start\n",
        "        self.goal = goal\n",
        "        self.open_list = []\n",
        "        self.closed_list = set()\n",
        "        self.came_from = {}  # To track the path\n",
        "        self.g_score = {start: 0}  # Actual cost from start to node\n",
        "        self.f_score = {start: self.heuristic(start, goal)}  # Estimated total cost (g + h)\n",
        "\n",
        "    # Heuristic function: Manhattan distance for a grid\n",
        "    def heuristic(self, node, goal):\n",
        "        return abs(node[0] - goal[0]) + abs(node[1] - goal[1])\n",
        "\n",
        "    # A* search function\n",
        "    def search(self):\n",
        "        # Push the start node to the priority queue\n",
        "        heapq.heappush(self.open_list, (self.f_score[self.start], self.start))\n",
        "\n",
        "        while self.open_list:\n",
        "            # Get the node with the lowest f-score (priority queue)\n",
        "            _, current = heapq.heappop(self.open_list)\n",
        "\n",
        "            # Check if we have reached the goal\n",
        "            if current == self.goal:\n",
        "                return self.reconstruct_path(current)\n",
        "\n",
        "            self.closed_list.add(current)\n",
        "\n",
        "            # Explore the neighbors of the current node\n",
        "            for neighbor in self.get_neighbors(current):\n",
        "                if neighbor in self.closed_list:\n",
        "                    continue\n",
        "\n",
        "                tentative_g_score = self.g_score[current] + 1  # Assume uniform cost for grid movement\n",
        "\n",
        "                # If this is a new node or we found a cheaper path to this neighbor\n",
        "                if neighbor not in self.g_score or tentative_g_score < self.g_score[neighbor]:\n",
        "                    self.came_from[neighbor] = current\n",
        "                    self.g_score[neighbor] = tentative_g_score\n",
        "                    self.f_score[neighbor] = tentative_g_score + self.heuristic(neighbor, self.goal)\n",
        "\n",
        "                    # Add the neighbor to the open list if not already there\n",
        "                    if neighbor not in [i[1] for i in self.open_list]:\n",
        "                        heapq.heappush(self.open_list, (self.f_score[neighbor], neighbor))\n",
        "\n",
        "        return None  # No path found\n",
        "\n",
        "    # Reconstructs the path from the goal to the start\n",
        "    def reconstruct_path(self, current):\n",
        "        path = [current]\n",
        "        while current in self.came_from:\n",
        "            current = self.came_from[current]\n",
        "            path.append(current)\n",
        "        path.reverse()\n",
        "        return path\n",
        "\n",
        "    # Get valid neighbors of a node (up, down, left, right)\n",
        "    def get_neighbors(self, node):\n",
        "        neighbors = []\n",
        "        x, y = node\n",
        "        directions = [(0, 1), (1, 0), (0, -1), (-1, 0)]  # Right, Down, Left, Up\n",
        "        for dx, dy in directions:\n",
        "            nx, ny = x + dx, y + dy\n",
        "            if 0 <= nx < len(self.grid) and 0 <= ny < len(self.grid[0]) and self.grid[nx][ny] == 0:\n",
        "                neighbors.append((nx, ny))\n",
        "        return neighbors\n",
        "\n",
        "\n",
        "# Example grid:\n",
        "# 0 = free path, 1 = blocked cell\n",
        "grid = [\n",
        "    [0, 1, 0, 0, 0, 0],\n",
        "    [0, 1, 0, 1, 1, 0],\n",
        "    [0, 0, 0, 1, 0, 0],\n",
        "    [0, 1, 1, 1, 0, 1],\n",
        "    [0, 0, 0, 0, 0, 0]\n",
        "]\n",
        "\n",
        "# Define the start and goal points\n",
        "start = (0, 0)\n",
        "goal = (4, 5)\n",
        "\n",
        "# Create an AStar object\n",
        "a_star = AStar(grid, start, goal)\n",
        "\n",
        "# Find the path\n",
        "path = a_star.search()\n",
        "\n",
        "# Output the result\n",
        "if path:\n",
        "    print(\"Path found:\", path)\n",
        "else:\n",
        "    print(\"No path found.\")\n"
      ]
    }
  ]
}