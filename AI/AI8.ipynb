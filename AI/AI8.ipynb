{
  "nbformat": 4,
  "nbformat_minor": 0,
  "metadata": {
    "colab": {
      "provenance": []
    },
    "kernelspec": {
      "name": "python3",
      "display_name": "Python 3"
    },
    "language_info": {
      "name": "python"
    }
  },
  "cells": [
    {
      "cell_type": "code",
      "execution_count": 1,
      "metadata": {
        "colab": {
          "base_uri": "https://localhost:8080/"
        },
        "id": "duNRlDrNUE0H",
        "outputId": "bed0e819-4d37-484b-d2c3-cd57d09ee98b"
      },
      "outputs": [
        {
          "output_type": "stream",
          "name": "stdout",
          "text": [
            "Trying to prove goal 'E' using rule ['D'] -> E\n",
            "Trying to prove goal 'D' using rule ['C'] -> D\n",
            "Trying to prove goal 'C' using rule ['A', 'B'] -> C\n",
            "Goal 'A' is a known fact.\n",
            "Goal 'B' is a known fact.\n",
            "Goal 'C' proven by rule ['A', 'B'] -> C\n",
            "Goal 'D' proven by rule ['C'] -> D\n",
            "Goal 'E' proven by rule ['D'] -> E\n",
            "Goal 'E' is true.\n"
          ]
        }
      ],
      "source": [
        "# Rule class to represent each rule with conditions and conclusion\n",
        "class Rule:\n",
        "    def __init__(self, conditions, conclusion):\n",
        "        self.conditions = conditions  # List of conditions (premises)\n",
        "        self.conclusion = conclusion  # Conclusion (result)\n",
        "\n",
        "# Function to perform backward chaining\n",
        "def backward_chaining(rules, facts, goal):\n",
        "    # If the goal is already a known fact, return True\n",
        "    if goal in facts:\n",
        "        print(f\"Goal '{goal}' is a known fact.\")\n",
        "        return True\n",
        "\n",
        "    # Find a rule that concludes the goal\n",
        "    for rule in rules:\n",
        "        if rule.conclusion == goal:\n",
        "            print(f\"Trying to prove goal '{goal}' using rule {rule.conditions} -> {rule.conclusion}\")\n",
        "\n",
        "            # Try to prove all the conditions of this rule\n",
        "            all_conditions_proven = True\n",
        "            for condition in rule.conditions:\n",
        "                if not backward_chaining(rules, facts, condition):\n",
        "                    all_conditions_proven = False\n",
        "                    break\n",
        "\n",
        "            # If all conditions are proven, the goal is proven\n",
        "            if all_conditions_proven:\n",
        "                print(f\"Goal '{goal}' proven by rule {rule.conditions} -> {rule.conclusion}\")\n",
        "                return True\n",
        "\n",
        "    # If no rule or conditions can prove the goal, return False\n",
        "    print(f\"Goal '{goal}' cannot be proven.\")\n",
        "    return False\n",
        "\n",
        "# Define the rules (conditions -> conclusion)\n",
        "rules = [\n",
        "    Rule(['A', 'B'], 'C'),\n",
        "    Rule(['C'], 'D'),\n",
        "    Rule(['D'], 'E'),\n",
        "]\n",
        "\n",
        "# Initial set of known facts\n",
        "facts = ['A', 'B']\n",
        "\n",
        "# Define the goal we want to prove\n",
        "goal = 'E'\n",
        "\n",
        "# Perform backward chaining to prove the goal\n",
        "if backward_chaining(rules, facts, goal):\n",
        "    print(f\"Goal '{goal}' is true.\")\n",
        "else:\n",
        "    print(f\"Goal '{goal}' is false.\")\n"
      ]
    }
  ]
}