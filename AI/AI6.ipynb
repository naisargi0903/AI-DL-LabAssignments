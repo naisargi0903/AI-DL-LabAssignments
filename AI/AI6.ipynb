{
  "nbformat": 4,
  "nbformat_minor": 0,
  "metadata": {
    "colab": {
      "provenance": []
    },
    "kernelspec": {
      "name": "python3",
      "display_name": "Python 3"
    },
    "language_info": {
      "name": "python"
    }
  },
  "cells": [
    {
      "cell_type": "code",
      "execution_count": 1,
      "metadata": {
        "colab": {
          "base_uri": "https://localhost:8080/"
        },
        "id": "W1vgKvzJq8ET",
        "outputId": "88750066-9c13-49e6-c846-23d6d0c63af6"
      },
      "outputs": [
        {
          "output_type": "stream",
          "name": "stdout",
          "text": [
            "Q . . . . . . .\n",
            ". . . . Q . . .\n",
            ". . . . . . . Q\n",
            ". . . . . Q . .\n",
            ". . Q . . . . .\n",
            ". . . . . . Q .\n",
            ". Q . . . . . .\n",
            ". . . Q . . . .\n",
            "\n",
            "\n"
          ]
        }
      ],
      "source": [
        "# Function to check if a queen can be placed at board[row][col]\n",
        "def is_safe(board, row, col, n):\n",
        "    # Check the column\n",
        "    for i in range(row):\n",
        "        if board[i][col] == 1:\n",
        "            return False\n",
        "\n",
        "    # Check the upper-left diagonal\n",
        "    for i, j in zip(range(row, -1, -1), range(col, -1, -1)):\n",
        "        if board[i][j] == 1:\n",
        "            return False\n",
        "\n",
        "    # Check the upper-right diagonal\n",
        "    for i, j in zip(range(row, -1, -1), range(col, n)):\n",
        "        if board[i][j] == 1:\n",
        "            return False\n",
        "\n",
        "    return True\n",
        "\n",
        "# Function to print the chessboard with queens\n",
        "def print_board(board):\n",
        "    for row in board:\n",
        "        print(\" \".join(\"Q\" if x == 1 else \".\" for x in row))\n",
        "    print(\"\\n\")\n",
        "\n",
        "# Function to solve the 8-queens problem using backtracking\n",
        "def solve_8_queens(board, row, n):\n",
        "    # If all queens are placed, print the board\n",
        "    if row >= n:\n",
        "        print_board(board)\n",
        "        return True\n",
        "\n",
        "    # Try placing a queen in all columns of the current row\n",
        "    for col in range(n):\n",
        "        if is_safe(board, row, col, n):\n",
        "            # Place the queen at board[row][col]\n",
        "            board[row][col] = 1\n",
        "\n",
        "            # Recursively place the rest of the queens\n",
        "            if solve_8_queens(board, row + 1, n):\n",
        "                return True\n",
        "\n",
        "            # If placing the queen leads to a conflict, backtrack\n",
        "            board[row][col] = 0\n",
        "\n",
        "    return False\n",
        "\n",
        "# Function to initialize the board and start the solver\n",
        "def solve_n_queens(n):\n",
        "    board = [[0] * n for _ in range(n)]\n",
        "    if not solve_8_queens(board, 0, n):\n",
        "        print(\"Solution does not exist\")\n",
        "\n",
        "# Solving the 8-Queens problem\n",
        "solve_n_queens(8)"
      ]
    }
  ]
}